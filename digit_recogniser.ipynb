{
 "cells": [
  {
   "cell_type": "code",
   "execution_count": 1,
   "id": "45c7dd2e",
   "metadata": {},
   "outputs": [],
   "source": [
    "import numpy as np # linear algebra\n",
    "import pandas as pd # data processing, CSV file I/O (e.g. pd.read_csv)\n",
    "from matplotlib import pyplot as plt\n",
    "import seaborn as sns\n",
    "plt.style.use('seaborn')\n",
    "import os"
   ]
  },
  {
   "cell_type": "code",
   "execution_count": 2,
   "id": "084ee909",
   "metadata": {},
   "outputs": [],
   "source": [
    "for dirname, _, filenames in os.walk('/kaggle/input'):\n",
    "    for filename in filenames:\n",
    "        print(os.path.join(dirname, filename))"
   ]
  },
  {
   "cell_type": "code",
   "execution_count": 5,
   "id": "df3cfbe9",
   "metadata": {},
   "outputs": [],
   "source": [
    "test = pd.read_csv(\"Testsales.csv\")\n",
    "train = pd.read_csv(\"train1.csv\")"
   ]
  },
  {
   "cell_type": "markdown",
   "id": "6d29a3f9",
   "metadata": {},
   "source": [
    "Number of train samples by label"
   ]
  },
  {
   "cell_type": "code",
   "execution_count": 6,
   "id": "d225a489",
   "metadata": {},
   "outputs": [
    {
     "data": {
      "image/png": "[encoded data removed]",
      "text/plain": [
       "<Figure size 576x396 with 1 Axes>"
      ]
     },
     "metadata": {},
     "output_type": "display_data"
    }
   ],
   "source": [
    "train.label.value_counts().plot.bar(rot=0,title='Number of train samples by label');"
   ]
  },
  {
   "cell_type": "code",
   "execution_count": 7,
   "id": "cf2799ee",
   "metadata": {},
   "outputs": [
    {
     "data": {
      "image/png": "[encoded data removed]",
      "text/plain": [
       "<Figure size 576x396 with 1 Axes>"
      ]
     },
     "metadata": {},
     "output_type": "display_data"
    }
   ],
   "source": [
    "plt.imshow(train[train.columns[1:]].sample(1).values.ravel().reshape(28,28));"
   ]
  },
  {
   "cell_type": "markdown",
   "id": "7bd39058",
   "metadata": {},
   "source": [
    "Train / Test data"
   ]
  },
  {
   "cell_type": "code",
   "execution_count": 8,
   "id": "b1a453ae",
   "metadata": {},
   "outputs": [],
   "source": [
    "from sklearn.model_selection import train_test_split\n",
    "train_, test_ = train_test_split(train,test_size=0.33,random_state=42,stratify=train.label)"
   ]
  },
  {
   "cell_type": "markdown",
   "id": "17986d1d",
   "metadata": {},
   "source": [
    "Check if the data it's fair splitted based on label"
   ]
  },
  {
   "cell_type": "code",
   "execution_count": 9,
   "id": "07fd2eda",
   "metadata": {},
   "outputs": [
    {
     "data": {
      "text/plain": [
       "('train',\n",
       " 1    0.111514\n",
       " 7    0.104797\n",
       " 3    0.103589\n",
       " 9    0.099716\n",
       " 2    0.099467\n",
       " 6    0.098507\n",
       " 0    0.098365\n",
       " 4    0.096944\n",
       " 8    0.096731\n",
       " 5    0.090370\n",
       " Name: label, dtype: float64,\n",
       " 'test',\n",
       " 1    0.111544\n",
       " 7    0.104762\n",
       " 3    0.103608\n",
       " 9    0.099711\n",
       " 2    0.099423\n",
       " 6    0.098485\n",
       " 0    0.098413\n",
       " 4    0.096970\n",
       " 8    0.096753\n",
       " 5    0.090332\n",
       " Name: label, dtype: float64)"
      ]
     },
     "execution_count": 9,
     "metadata": {},
     "output_type": "execute_result"
    }
   ],
   "source": [
    "'train',train_.label.value_counts() / len(train_),'test',test_.label.value_counts() / len(test_)"
   ]
  },
  {
   "cell_type": "markdown",
   "id": "e8be3d7e",
   "metadata": {},
   "source": [
    "KNN"
   ]
  },
  {
   "cell_type": "code",
   "execution_count": 10,
   "id": "32b9be0b",
   "metadata": {},
   "outputs": [],
   "source": [
    "from sklearn.neighbors import KNeighborsClassifier\n",
    "from sklearn import metrics"
   ]
  },
  {
   "cell_type": "code",
   "execution_count": 11,
   "id": "6678d2ef",
   "metadata": {},
   "outputs": [
    {
     "name": "stdout",
     "output_type": "stream",
     "text": [
      "CPU times: total: 46.9 ms\n",
      "Wall time: 45.3 ms\n"
     ]
    },
    {
     "data": {
      "text/plain": [
       "KNeighborsClassifier(n_neighbors=3)"
      ]
     },
     "execution_count": 11,
     "metadata": {},
     "output_type": "execute_result"
    }
   ],
   "source": [
    "%%time\n",
    "knn = KNeighborsClassifier(n_neighbors=3)\n",
    "knn.fit(train_[train_.columns[1:]],train_['label'])"
   ]
  },
  {
   "cell_type": "code",
   "execution_count": 12,
   "id": "e230e0cd",
   "metadata": {},
   "outputs": [
    {
     "name": "stdout",
     "output_type": "stream",
     "text": [
      "CPU times: total: 27.7 s\n",
      "Wall time: 9.97 s\n"
     ]
    }
   ],
   "source": [
    "%%time\n",
    "knn_results = test_.copy()\n",
    "knn_results['y_pred'] = knn.predict(test_[test_.columns[1:]])"
   ]
  },
  {
   "cell_type": "code",
   "execution_count": 13,
   "id": "7109dfba",
   "metadata": {},
   "outputs": [
    {
     "name": "stdout",
     "output_type": "stream",
     "text": [
      "              precision    recall  f1-score   support\n",
      "\n",
      "           0       0.97      0.99      0.98      1364\n",
      "           1       0.95      1.00      0.97      1546\n",
      "           2       0.98      0.96      0.97      1378\n",
      "           3       0.96      0.95      0.96      1436\n",
      "           4       0.96      0.96      0.96      1344\n",
      "           5       0.95      0.94      0.95      1252\n",
      "           6       0.98      0.99      0.98      1365\n",
      "           7       0.96      0.97      0.96      1452\n",
      "           8       0.98      0.91      0.94      1341\n",
      "           9       0.95      0.95      0.95      1382\n",
      "\n",
      "    accuracy                           0.96     13860\n",
      "   macro avg       0.96      0.96      0.96     13860\n",
      "weighted avg       0.96      0.96      0.96     13860\n",
      "\n"
     ]
    }
   ],
   "source": [
    "print(metrics.classification_report(knn_results.label,knn_results.y_pred))"
   ]
  },
  {
   "cell_type": "code",
   "execution_count": 14,
   "id": "fd1d3186",
   "metadata": {},
   "outputs": [
    {
     "data": {
      "image/png": "[encoded data removed]",
      "text/plain": [
       "<Figure size 576x396 with 2 Axes>"
      ]
     },
     "metadata": {},
     "output_type": "display_data"
    }
   ],
   "source": [
    "sns.heatmap(metrics.confusion_matrix(knn_results.label,knn_results.y_pred),annot=True,fmt='d');"
   ]
  },
  {
   "cell_type": "markdown",
   "id": "7c50d1cd",
   "metadata": {},
   "source": []
  },
  {
   "cell_type": "code",
   "execution_count": null,
   "id": "02039735",
   "metadata": {},
   "outputs": [],
   "source": []
  },
  {
   "cell_type": "code",
   "execution_count": null,
   "id": "cf4ede46",
   "metadata": {},
   "outputs": [],
   "source": []
  }
 ],
 "metadata": {
  "kernelspec": {
   "display_name": "Python 3 (ipykernel)",
   "language": "python",
   "name": "python3"
  },
  "language_info": {
   "codemirror_mode": {
    "name": "ipython",
    "version": 3
   },
   "file_extension": ".py",
   "mimetype": "text/x-python",
   "name": "python",
   "nbconvert_exporter": "python",
   "pygments_lexer": "ipython3",
   "version": "3.9.12"
  }
 },
 "nbformat": 4,
 "nbformat_minor": 5
}
